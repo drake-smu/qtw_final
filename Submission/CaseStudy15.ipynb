{
 "nbformat": 4,
 "nbformat_minor": 2,
 "metadata": {
  "language_info": {
   "name": "python",
   "codemirror_mode": {
    "name": "ipython",
    "version": 3
   },
   "version": "3.7.6-final"
  },
  "orig_nbformat": 2,
  "file_extension": ".py",
  "mimetype": "text/x-python",
  "name": "python",
  "npconvert_exporter": "python",
  "pygments_lexer": "ipython3",
  "version": 3,
  "kernelspec": {
   "name": "python36864bitad1705b529024aa9a3ca6e60d1adcb33",
   "display_name": "Python 3.6.8 64-bit"
  }
 },
 "cells": [
  {
   "cell_type": "markdown",
   "metadata": {},
   "source": [
    "# QTW Lab 15\n",
    "\n",
    "## David Josephs, Andy Heroy, Carson Drake, Che' Cobb\n",
    "\n",
    "### April 10, 2020"
   ]
  },
  {
   "cell_type": "markdown",
   "metadata": {},
   "source": [
    "{}\n",
    "## Introduction\n",
    "\n",
    "For the final case study for DS7333, we were given an unlabled dataset and tasked with providing insight and as to possible cost savings for a business partner. The dataset itself was 160,000 records with 51 unlabeled features.   Our only hint as to its domain is that its origins lie in the insurance industry.  The features themselves are labeled x0-x49 with a binary target category ('y') of 0 or 1.  Our job is to apply machine learning modeling techniques to show a cost savings for our business partner for every correct classification of the target variable.  \n",
    "\n",
    "Seeing as we're dealing with a target variable that is binary, our job will be to select classifciation models that can best address the data.  The classification models we will attempt are as follows.  \n",
    "\n",
    "- Random Forrest\n",
    "- Logistic Regression\n",
    "- XGBoost\n",
    "\n",
    "## Background\n",
    "\n",
    "At its simplest, a classification model trains a model on a sample of training data to then predict what the class of unseen test data.  The metrics for classification models are accuracy, precision, recall and F1-Score.  The main goal of this paper is to minimize false positives and false negatives.  As our business partner has kindly given us a \"cost\" function as to what false positivies and negatives cost our company. \n",
    "\n",
    "- False positive = $10\n",
    "- False negative = $500\n",
    "- True  pos/neg  = $ 0\n",
    "\n",
    "When we evaluate our models, we will implement a custom function to incorporate these desires in the cost function of the scoring section of the algorithm.  Sklearn comes with a handy function called make_scorer that allows to monitor our models performance with that very cost savings in mind.  \n",
    "\n"
   ]
  }
 ]
}